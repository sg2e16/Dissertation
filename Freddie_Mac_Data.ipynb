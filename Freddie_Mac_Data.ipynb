{
  "nbformat": 4,
  "nbformat_minor": 0,
  "metadata": {
    "colab": {
      "name": "Freddie Mac Data ",
      "version": "0.3.2",
      "provenance": [],
      "private_outputs": true,
      "collapsed_sections": []
    },
    "kernelspec": {
      "name": "python3",
      "display_name": "Python 3"
    },
    "accelerator": "GPU"
  },
  "cells": [
    {
      "metadata": {
        "id": "G0HkpOSA_BIH",
        "colab_type": "code",
        "colab": {}
      },
      "cell_type": "code",
      "source": [
        "##Removes sample_data file from files\n",
        "!rm -rf 'sample_data'"
      ],
      "execution_count": 0,
      "outputs": []
    },
    {
      "metadata": {
        "id": "1RBISMNic6aH",
        "colab_type": "code",
        "colab": {}
      },
      "cell_type": "code",
      "source": [
        "##Imports required packages\n",
        "import os\n",
        "import urllib\n",
        "import csv\n",
        "import numpy as np\n",
        "import pandas as pd"
      ],
      "execution_count": 0,
      "outputs": []
    },
    {
      "metadata": {
        "id": "QQRqm7-KXNUI",
        "colab_type": "code",
        "colab": {}
      },
      "cell_type": "code",
      "source": [
        "##Colects files from Google Drive (Requires Code)\n",
        "from google.colab import drive\n",
        "drive.mount('/content/gdrive')"
      ],
      "execution_count": 0,
      "outputs": []
    },
    {
      "metadata": {
        "id": "locgSNLAXYUy",
        "colab_type": "code",
        "colab": {}
      },
      "cell_type": "code",
      "source": [
        "!unzip \"/content/gdrive/My Drive/FreddieMacSampleFilesQuarter/sample_2000\"\n",
        "!unzip \"/content/gdrive/My Drive/FreddieMacSampleFilesQuarter/sample_2001\"\n",
        "!unzip \"/content/gdrive/My Drive/FreddieMacSampleFilesQuarter/sample_2002\"\n",
        "!unzip \"/content/gdrive/My Drive/FreddieMacSampleFilesQuarter/sample_2003\"\n",
        "!unzip \"/content/gdrive/My Drive/FreddieMacSampleFilesQuarter/sample_2004\"\n",
        "!unzip \"/content/gdrive/My Drive/FreddieMacSampleFilesQuarter/sample_2005\"\n",
        "!unzip \"/content/gdrive/My Drive/FreddieMacSampleFilesQuarter/sample_2006\"\n",
        "!unzip \"/content/gdrive/My Drive/FreddieMacSampleFilesQuarter/sample_2007\"\n",
        "!unzip \"/content/gdrive/My Drive/FreddieMacSampleFilesQuarter/sample_2008\"\n",
        "!unzip \"/content/gdrive/My Drive/FreddieMacSampleFilesQuarter/sample_2009\"\n",
        "!unzip \"/content/gdrive/My Drive/FreddieMacSampleFilesQuarter/sample_2010\"\n",
        "!unzip \"/content/gdrive/My Drive/FreddieMacSampleFilesQuarter/sample_2011\"\n",
        "!unzip \"/content/gdrive/My Drive/FreddieMacSampleFilesQuarter/sample_2012\"\n",
        "!unzip \"/content/gdrive/My Drive/FreddieMacSampleFilesQuarter/sample_2013\"\n",
        "!unzip \"/content/gdrive/My Drive/FreddieMacSampleFilesQuarter/sample_2014\"\n",
        "!unzip \"/content/gdrive/My Drive/FreddieMacSampleFilesQuarter/sample_2015\"\n",
        "!unzip \"/content/gdrive/My Drive/FreddieMacSampleFilesQuarter/sample_2016\"\n",
        "!unzip \"/content/gdrive/My Drive/FreddieMacSampleFilesQuarter/sample_2017\""
      ],
      "execution_count": 0,
      "outputs": []
    },
    {
      "metadata": {
        "id": "miEOSp_7dTdO",
        "colab_type": "code",
        "colab": {}
      },
      "cell_type": "code",
      "source": [
        "##Creates step counter\n",
        "stepsCompletedCounter = 0"
      ],
      "execution_count": 0,
      "outputs": []
    },
    {
      "metadata": {
        "id": "NDNTCcS8bbTT",
        "colab_type": "code",
        "colab": {}
      },
      "cell_type": "code",
      "source": [
        "##Defines step counter\n",
        "def log(arg):\n",
        "  global stepsCompletedCounter\n",
        "  stepsCompletedCounter = stepsCompletedCounter + 1\n",
        "  print (\"Step \"+str(stepsCompletedCounter)+\"   :\"+arg)"
      ],
      "execution_count": 0,
      "outputs": []
    },
    {
      "metadata": {
        "id": "b2SMzDeOc2_U",
        "colab_type": "code",
        "colab": {}
      },
      "cell_type": "code",
      "source": [
        "##Defines consolidated files\n",
        "def create_consolidated_file(filename):\n",
        "  write_for_svcg_file_creation = False\n",
        "  write_for_orig_file_creation = False\n",
        "  if write_for_svcg_file_creation == False or write_for_orig_file_creation == False:\n",
        "        with open('unprocessed_consolidated_sample_'+filename+'_file.csv', 'a') as file:#'w'\n",
        "            file.close()\n",
        "        log(\" SUCCESS   : Creating unprocessed \" + filename + \" consolidated file\")\n",
        "        return 'unprocessed_consolidated_sample_'+filename+'_file.csv'\n",
        "  else:\n",
        "        return 'unprocessed_consolidated_sample_'+filename+'_file.csv'"
      ],
      "execution_count": 0,
      "outputs": []
    },
    {
      "metadata": {
        "id": "6ghY2FAbbzUF",
        "colab_type": "code",
        "colab": {}
      },
      "cell_type": "code",
      "source": [
        "##Defines writing in to the consolidated files\n",
        "def write_into_consolidated_file(year, consolidated_file_path):\n",
        "        fileType = consolidated_file_path.split('_')[3]\n",
        "        with open(\"sample_\" + fileType + \"_\" + str(year) + '.txt', 'r') as sourceFile:\n",
        "            sourcelines = sourceFile.read()\n",
        "            sourcelines = sourcelines.replace(\",\", \"_\")\n",
        "            sourcelines = sourcelines.replace(\"|\", \",\")\n",
        "            sourcelines = sourcelines.replace(\",\\n\", \"\\n\")\n",
        "            with open(consolidated_file_path, 'a') as destinationFile:\n",
        "                destinationFile.write(sourcelines)"
      ],
      "execution_count": 0,
      "outputs": []
    },
    {
      "metadata": {
        "colab_type": "code",
        "id": "baYZy3h-m1vA",
        "colab": {}
      },
      "cell_type": "code",
      "source": [
        "##Defines processing the cvs files\n",
        "def preprocessingCsvFiles(filetype):\n",
        "  with open('unprocessed_consolidated_sample_' + filetype + '_file.csv', 'rb') as sourceCsvFile:\n",
        "      rdr = csv.reader(sourceCsvFile)\n",
        "      with open('processed_consolidated_sample_' + filetype + '_file.csv',\n",
        "                'wb') as destinationCsvFile:\n",
        "          wtr = csv.writer(destinationCsvFile)\n",
        "          for r in rdr:\n",
        "              if (filetype == 'svcg'):\n",
        "                  wtr.writerow((r[0], r[1], r[2], r[3], r[4], r[5], r[7], r[8], r[9], r[10], r[11], r[13],\n",
        "                                r[14], r[15], r[16], r[17], r[18], r[19], r[21], r[22]))\n",
        "              else:\n",
        "                  wtr.writerow((\n",
        "                               r[0], r[1], r[3], r[5], r[8], r[9], r[10], r[11], r[12], r[14], r[16],\n",
        "                               r[19], r[21], r[24]))"
      ],
      "execution_count": 0,
      "outputs": []
    },
    {
      "metadata": {
        "id": "6YbrGZmfXz0O",
        "colab_type": "code",
        "colab": {}
      },
      "cell_type": "code",
      "source": [
        "##Creates the consolidated files\n",
        "year_range = np.arange(2014, 2015)##Set number of years in a file\n",
        "for year in year_range:\n",
        "  write_into_consolidated_file(year, create_consolidated_file('orig'))\n",
        "  write_into_consolidated_file(year, create_consolidated_file('svcg'))"
      ],
      "execution_count": 0,
      "outputs": []
    },
    {
      "metadata": {
        "id": "yKpplAH4Bc39",
        "colab_type": "text"
      },
      "cell_type": "markdown",
      "source": [
        "Below makes svcgdata.csv:"
      ]
    },
    {
      "metadata": {
        "id": "JhyUkNWmE6OP",
        "colab_type": "code",
        "colab": {}
      },
      "cell_type": "code",
      "source": [
        "##Sets svcgdata\n",
        "svcgdata = pd.read_csv('unprocessed_consolidated_sample_svcg_file.csv', delimiter=\",\", header=None,\n",
        "                       index_col=False,\n",
        "                       names=[\"LoanSequenceNumber\", \"MonthlyReportingPeriod\",\n",
        "                              \"CurrentActualUPB\", \"CurrentLonDeliquencyStatus\",\n",
        "                              \"LoanAge\", \"RemainingMonthsForLegalMaturity\",\n",
        "                              \"RepurchaseFlag\", \"ModificationFlag\",\n",
        "                              \"ZeroBalanceCode\", \"ZeroBalanceEffectiveDate\",\n",
        "                              \"CurrentInterestRate\", \"CurrentDeferredUPB\",\n",
        "                              \"DDLPI\", \"MIRecoveries\", \"NetSalesProceeds\",\n",
        "                              \"NonMIRecoveries\", \"Expenses\", \"LegalCosts\",\n",
        "                              \"MaintenanceAndPreservationCosts\", \"TaxesAndInsurance\",\n",
        "                              \"MiscellaneousExpenses\", \"ActualLossCalculation\",\n",
        "                              \"ModificationCost\", \"\"])\n",
        "\n",
        "print(\"SVCG data shape:\",svcgdata.shape)"
      ],
      "execution_count": 0,
      "outputs": []
    },
    {
      "metadata": {
        "id": "8GNE0Ah5FCSG",
        "colab_type": "code",
        "colab": {}
      },
      "cell_type": "code",
      "source": [
        "svcgdata=svcgdata[[\"LoanSequenceNumber\",\n",
        "                                    \"CurrentActualUPB\", \"CurrentLonDeliquencyStatus\",\n",
        "                                    \"LoanAge\", \"RemainingMonthsForLegalMaturity\",\n",
        "                                    \"ModificationFlag\",\n",
        "                                    \"ZeroBalanceCode\", \"ZeroBalanceEffectiveDate\",\n",
        "                                    \"CurrentInterestRate\", \"CurrentDeferredUPB\",\n",
        "                                    \"MIRecoveries\", \"NetSalesProceeds\",\n",
        "                                    \"NonMIRecoveries\", \"Expenses\", \"LegalCosts\",\n",
        "                                    \"MaintenanceAndPreservationCosts\", \"TaxesAndInsurance\",\n",
        "                                    \"ActualLossCalculation\",\n",
        "                                    \"ModificationCost\"]]\n",
        "    \n",
        "print(\"SVCG data shape:\",svcgdata.shape)"
      ],
      "execution_count": 0,
      "outputs": []
    },
    {
      "metadata": {
        "id": "RFyXJVTbFOWs",
        "colab_type": "code",
        "colab": {}
      },
      "cell_type": "code",
      "source": [
        "svcgdata['CurrentLonDeliquencyStatus'].replace('xx', '0', inplace=True)\n",
        "svcgdata['CurrentLonDeliquencyStatus'].loc[(svcgdata['CurrentLonDeliquencyStatus']=='XX')] = 0\n",
        "svcgdata['CurrentLonDeliquencyStatus'].loc[(svcgdata['CurrentLonDeliquencyStatus']=='R')] = 111\n",
        "\n",
        "print(\"Deliquency status:\",svcgdata.groupby('CurrentLonDeliquencyStatus')['LoanSequenceNumber'].count())"
      ],
      "execution_count": 0,
      "outputs": []
    },
    {
      "metadata": {
        "id": "a9BS6-IcFkiV",
        "colab_type": "code",
        "colab": {}
      },
      "cell_type": "code",
      "source": [
        "svcgdata['ModificationFlag'].loc[(svcgdata['ModificationFlag']== 0)] = 'N'\n",
        "svcgdata[['ModificationFlag']]= svcgdata[['ModificationFlag']].fillna('N')\n",
        "print(svcgdata.groupby('ModificationFlag')['LoanSequenceNumber'].count())"
      ],
      "execution_count": 0,
      "outputs": []
    },
    {
      "metadata": {
        "id": "RjBTWpmMFlZ9",
        "colab_type": "code",
        "colab": {}
      },
      "cell_type": "code",
      "source": [
        "svcgdata[['ZeroBalanceCode']]= svcgdata[['ZeroBalanceCode']].fillna('0')\n",
        "svcgdata['ModificationFlag'].loc[(svcgdata['ModificationFlag']== 'N')] = 0\n",
        "print(svcgdata.groupby('ZeroBalanceCode')['LoanSequenceNumber'].count())"
      ],
      "execution_count": 0,
      "outputs": []
    },
    {
      "metadata": {
        "id": "40KfFijoFxLp",
        "colab_type": "code",
        "colab": {}
      },
      "cell_type": "code",
      "source": [
        "svcgdata[['ZeroBalanceEffectiveDate']]= svcgdata[['ZeroBalanceEffectiveDate']].fillna('196901')\n",
        "svcgdata[['MIRecoveries']]= svcgdata[['MIRecoveries']].fillna(0)\n",
        "svcgdata[['NetSalesProceeds']]= svcgdata[['NetSalesProceeds']].fillna('U')\n",
        "svcgdata[['NonMIRecoveries']]= svcgdata[['NonMIRecoveries']].fillna(0)\n",
        "svcgdata[['Expenses']]= svcgdata[['Expenses']].fillna(0)\n",
        "svcgdata[['LegalCosts']]= svcgdata[['LegalCosts']].fillna(0)\n",
        "svcgdata[['MaintenanceAndPreservationCosts']]= svcgdata[['MaintenanceAndPreservationCosts']].fillna(0)\n",
        "svcgdata[['TaxesAndInsurance']]= svcgdata[['TaxesAndInsurance']].fillna(0)\n",
        "svcgdata[['ModificationCost']]= svcgdata[['ModificationCost']].fillna(0)\n",
        "svcgdata[['ActualLossCalculation']]= svcgdata[['ActualLossCalculation']].fillna(0)\n",
        "svcgdata.head(5)"
      ],
      "execution_count": 0,
      "outputs": []
    },
    {
      "metadata": {
        "id": "rOAwi9WuF43c",
        "colab_type": "code",
        "colab": {}
      },
      "cell_type": "code",
      "source": [
        "svcgdata[[\"CurrentLonDeliquencyStatus\",\"LoanAge\", \"RemainingMonthsForLegalMaturity\",\"ZeroBalanceCode\"]]=svcgdata[[\"CurrentLonDeliquencyStatus\",\n",
        "                                    \"LoanAge\", \"RemainingMonthsForLegalMaturity\",\n",
        "                                    \"ZeroBalanceCode\"]].astype(int)\n",
        "\n",
        "svcgdata[[\"CurrentActualUPB\", \"CurrentInterestRate\", \"CurrentDeferredUPB\",\n",
        "                                    \"MIRecoveries\", \"NonMIRecoveries\", \"Expenses\", \"LegalCosts\",\n",
        "                                    \"MaintenanceAndPreservationCosts\", \"TaxesAndInsurance\",\n",
        "                                    \"ActualLossCalculation\",\n",
        "                                    \"ModificationCost\"]]=svcgdata[[\"CurrentActualUPB\", \"CurrentInterestRate\", \"CurrentDeferredUPB\",\n",
        "                                    \"MIRecoveries\", \"NonMIRecoveries\", \"Expenses\", \"LegalCosts\",\n",
        "                                    \"MaintenanceAndPreservationCosts\", \"TaxesAndInsurance\",\n",
        "                                    \"ActualLossCalculation\",\n",
        "                                    \"ModificationCost\"]].astype(float)\n",
        "\n",
        "\n",
        "svcgdata[[\"LoanSequenceNumber\", \"ModificationFlag\", \"ZeroBalanceEffectiveDate\"]]=svcgdata[[\"LoanSequenceNumber\", \"ModificationFlag\", \"ZeroBalanceEffectiveDate\"]].astype('str')\n",
        "\n",
        "svcgdata.head(5)"
      ],
      "execution_count": 0,
      "outputs": []
    },
    {
      "metadata": {
        "id": "cFec-ndJ3pxf",
        "colab_type": "code",
        "colab": {}
      },
      "cell_type": "code",
      "source": [
        "svcgdata.to_csv('svcgdata.csv', index=False)\n",
        "print (\"successfully saved svcg data as a CSV file\")"
      ],
      "execution_count": 0,
      "outputs": []
    },
    {
      "metadata": {
        "id": "rrxaZbrtwUjs",
        "colab_type": "code",
        "colab": {}
      },
      "cell_type": "code",
      "source": [
        "svcgdata.info()"
      ],
      "execution_count": 0,
      "outputs": []
    },
    {
      "metadata": {
        "id": "l9z9KcQoBt9O",
        "colab_type": "text"
      },
      "cell_type": "markdown",
      "source": [
        "Below makes origdata.csv:"
      ]
    },
    {
      "metadata": {
        "id": "oXBwwCXKF6um",
        "colab_type": "code",
        "colab": {}
      },
      "cell_type": "code",
      "source": [
        "origdata = pd.read_csv('unprocessed_consolidated_sample_orig_file.csv', delimiter=\",\", header=None, index_col=False,\n",
        "                                  names=[\"CreditScore\", \"FirstPaymentDate\", \"FirstTimeHomeBuyerFlag\",\n",
        "                                         \"MaturityDate\", \"MSA\", \"MortgageInsurancePercentage\",\n",
        "                                         \"NumberOfUnits\", \"OccupancyStatus\",\n",
        "                                         \"OroginalCLTV\", \"OriginalDTIRatio\", \"OriginalUPB\",\n",
        "                                         \"OriginalLTV\", \"OriginalInterestRate\",\n",
        "                                         \"Channel\", \"PPMFlag\",\n",
        "                                         \"ProductType\", \"PropertyState\", \"PropertyType\",\n",
        "                                         \"PostalCode\", \"LoanSequenceNumber\", \"LoanPurpose\",\n",
        "                                         \"OriginalLoanTerm\", \"NumberOfBorrowers\",\n",
        "                                         \"SellerName\", \"ServiceName\",\n",
        "                                         \"SuperConformingFlag\"])\n",
        "    \n",
        "    \n",
        "print(origdata.shape)"
      ],
      "execution_count": 0,
      "outputs": []
    },
    {
      "metadata": {
        "id": "onKwWqzVF_SP",
        "colab_type": "code",
        "colab": {}
      },
      "cell_type": "code",
      "source": [
        "origdata=origdata[[\"CreditScore\", \"FirstPaymentDate\", \"MaturityDate\", \"MortgageInsurancePercentage\",\n",
        "                                         \"OroginalCLTV\", \"OriginalDTIRatio\", \"OriginalUPB\",\n",
        "                                         \"OriginalLTV\", \"OriginalInterestRate\",\n",
        "                                         \"PPMFlag\", \"PropertyState\", \"PropertyType\",\n",
        "                                         \"LoanSequenceNumber\", \"OriginalLoanTerm\", \"ServiceName\"]]\n",
        "print(\"Original data shape\",origdata.shape )"
      ],
      "execution_count": 0,
      "outputs": []
    },
    {
      "metadata": {
        "id": "90lwF57HGFa1",
        "colab_type": "code",
        "colab": {}
      },
      "cell_type": "code",
      "source": [
        "origdata[[\"OriginalDTIRatio\"]]=origdata[[\"OriginalDTIRatio\"]].fillna(0)\n",
        "origdata[[\"PPMFlag\"]]=origdata[[\"PPMFlag\"]].fillna('N')\n",
        "# print(origdata.loc[:, origdata.isnull().any()]\n",
        "print(\"The types of flags are :\",origdata.groupby('PPMFlag')['LoanSequenceNumber'].count())\n",
        "print (origdata.head(5))"
      ],
      "execution_count": 0,
      "outputs": []
    },
    {
      "metadata": {
        "id": "M9ua3rjRGRMP",
        "colab_type": "code",
        "colab": {}
      },
      "cell_type": "code",
      "source": [
        "origdata.to_csv('origdata.csv', index=False)\n",
        "print (\"successfully saved Original data as a CSV file\")"
      ],
      "execution_count": 0,
      "outputs": []
    },
    {
      "metadata": {
        "id": "efl4jIU4wdb6",
        "colab_type": "code",
        "colab": {}
      },
      "cell_type": "code",
      "source": [
        "origdata.info()"
      ],
      "execution_count": 0,
      "outputs": []
    },
    {
      "metadata": {
        "id": "_QhtjZdWhaNt",
        "colab_type": "text"
      },
      "cell_type": "markdown",
      "source": [
        "Below Creating Defaults on CurrentLoanDeliquencyStatus:"
      ]
    },
    {
      "metadata": {
        "id": "uWKKNIode8_b",
        "colab_type": "code",
        "colab": {}
      },
      "cell_type": "code",
      "source": [
        "svcgdata.shape"
      ],
      "execution_count": 0,
      "outputs": []
    },
    {
      "metadata": {
        "id": "UfvFwhG-ysHU",
        "colab_type": "code",
        "colab": {}
      },
      "cell_type": "code",
      "source": [
        "svcgdataCLDS = svcgdata.copy()\n",
        "svcgdataCLDS.shape"
      ],
      "execution_count": 0,
      "outputs": []
    },
    {
      "metadata": {
        "id": "4SYkZsjlgO0Q",
        "colab_type": "code",
        "colab": {}
      },
      "cell_type": "code",
      "source": [
        "svcgdataCLDS['CurrentLonDeliquencyStatus'].value_counts()"
      ],
      "execution_count": 0,
      "outputs": []
    },
    {
      "metadata": {
        "id": "MJb_3nDePAeJ",
        "colab_type": "code",
        "colab": {}
      },
      "cell_type": "code",
      "source": [
        "svcgdataCLDS['DefaultCLDS'] = np.where(svcgdataCLDS['CurrentLonDeliquencyStatus']>= 6, '1', '0')\n",
        "##svcgdataCLDS['DefaultCLDS'].astype(bool)\n",
        "##svcgdataCLDS.head(5000)"
      ],
      "execution_count": 0,
      "outputs": []
    },
    {
      "metadata": {
        "id": "ErOsXErMhlqK",
        "colab_type": "code",
        "colab": {}
      },
      "cell_type": "code",
      "source": [
        "svcgdataCLDS['DefaultCLDS'].value_counts()"
      ],
      "execution_count": 0,
      "outputs": []
    },
    {
      "metadata": {
        "id": "GJSNguTcGWqc",
        "colab_type": "code",
        "colab": {}
      },
      "cell_type": "code",
      "source": [
        "svcgdataCLDS['LoanSequenceNumber'].value_counts()"
      ],
      "execution_count": 0,
      "outputs": []
    },
    {
      "metadata": {
        "id": "JBHszcRr8pEo",
        "colab_type": "code",
        "colab": {}
      },
      "cell_type": "code",
      "source": [
        "svcgdataCLDS.sort_values(\"LoanSequenceNumber\", inplace = True)"
      ],
      "execution_count": 0,
      "outputs": []
    },
    {
      "metadata": {
        "id": "7dNV3tcd85TE",
        "colab_type": "code",
        "colab": {}
      },
      "cell_type": "code",
      "source": [
        "svcgdataCLDS.drop_duplicates(subset =\"LoanSequenceNumber\", \n",
        "                     keep = 'first', inplace = True)"
      ],
      "execution_count": 0,
      "outputs": []
    },
    {
      "metadata": {
        "id": "oSdQIgR0H-nO",
        "colab_type": "code",
        "colab": {}
      },
      "cell_type": "code",
      "source": [
        "svcgdataCLDS['LoanSequenceNumber'].value_counts()"
      ],
      "execution_count": 0,
      "outputs": []
    },
    {
      "metadata": {
        "id": "bVaTW6QRzPM8",
        "colab_type": "code",
        "colab": {}
      },
      "cell_type": "code",
      "source": [
        "svcgdataCLDS.drop(['CurrentActualUPB','CurrentLonDeliquencyStatus','LoanAge',\n",
        "                       'RemainingMonthsForLegalMaturity','ModificationFlag','ZeroBalanceCode',\n",
        "                       'ZeroBalanceEffectiveDate','CurrentInterestRate','CurrentDeferredUPB',\n",
        "                       'MIRecoveries','NetSalesProceeds','NonMIRecoveries',\n",
        "                       'Expenses','LegalCosts','MaintenanceAndPreservationCosts',\n",
        "                       'TaxesAndInsurance', 'ActualLossCalculation','ModificationCost'],axis=1, inplace=True)\n",
        "svcgdataCLDS.head(5)"
      ],
      "execution_count": 0,
      "outputs": []
    },
    {
      "metadata": {
        "colab_type": "text",
        "id": "klXmKlHahsIA"
      },
      "cell_type": "markdown",
      "source": [
        "Below Creating Defaults on ZeroBalanceCode:"
      ]
    },
    {
      "metadata": {
        "id": "B21sXY1Vf-DK",
        "colab_type": "code",
        "colab": {}
      },
      "cell_type": "code",
      "source": [
        "svcgdata.shape"
      ],
      "execution_count": 0,
      "outputs": []
    },
    {
      "metadata": {
        "id": "QaEp3rTXVutS",
        "colab_type": "code",
        "colab": {}
      },
      "cell_type": "code",
      "source": [
        "svcgdataZBC = svcgdata.copy()\n",
        "svcgdataZBC.shape"
      ],
      "execution_count": 0,
      "outputs": []
    },
    {
      "metadata": {
        "id": "yaOzT4d7WKWO",
        "colab_type": "code",
        "colab": {}
      },
      "cell_type": "code",
      "source": [
        "svcgdataZBC['ZeroBalanceCode'].value_counts()"
      ],
      "execution_count": 0,
      "outputs": []
    },
    {
      "metadata": {
        "id": "q3jpF5mVWAq_",
        "colab_type": "code",
        "colab": {}
      },
      "cell_type": "code",
      "source": [
        "svcgdataZBC['DefaultZBC'] = np.where(svcgdataZBC['ZeroBalanceCode']== 2, '1',\n",
        "                                   np.where(svcgdataZBC['ZeroBalanceCode']== 3, '1',\n",
        "                                   np.where(svcgdataZBC['ZeroBalanceCode']== 9, '1',\n",
        "                                   np.where(svcgdataZBC['ZeroBalanceCode']== 15, '1','0'))))\n",
        "##svcgdataZBC['DefaultZBC'].astype(bool)"
      ],
      "execution_count": 0,
      "outputs": []
    },
    {
      "metadata": {
        "id": "7HYJecPVXACH",
        "colab_type": "code",
        "colab": {}
      },
      "cell_type": "code",
      "source": [
        "svcgdataZBC['DefaultZBC'].value_counts()"
      ],
      "execution_count": 0,
      "outputs": []
    },
    {
      "metadata": {
        "colab_type": "code",
        "id": "b42XiMUtgkFQ",
        "colab": {}
      },
      "cell_type": "code",
      "source": [
        "svcgdataZBC['LoanSequenceNumber'].value_counts()"
      ],
      "execution_count": 0,
      "outputs": []
    },
    {
      "metadata": {
        "colab_type": "code",
        "id": "yUIqglkQgkFT",
        "colab": {}
      },
      "cell_type": "code",
      "source": [
        "svcgdataZBC.sort_values(\"LoanSequenceNumber\", inplace = True)"
      ],
      "execution_count": 0,
      "outputs": []
    },
    {
      "metadata": {
        "colab_type": "code",
        "id": "_nsGumsngkFU",
        "colab": {}
      },
      "cell_type": "code",
      "source": [
        "svcgdataZBC.drop_duplicates(subset =\"LoanSequenceNumber\", \n",
        "                     keep = 'first', inplace = True)"
      ],
      "execution_count": 0,
      "outputs": []
    },
    {
      "metadata": {
        "colab_type": "code",
        "id": "dYBs1F3ogkFX",
        "colab": {}
      },
      "cell_type": "code",
      "source": [
        "svcgdataZBC['LoanSequenceNumber'].value_counts()"
      ],
      "execution_count": 0,
      "outputs": []
    },
    {
      "metadata": {
        "colab_type": "code",
        "id": "QZorwVtggkFZ",
        "colab": {}
      },
      "cell_type": "code",
      "source": [
        "svcgdataZBC.drop(['CurrentActualUPB','CurrentLonDeliquencyStatus','LoanAge',\n",
        "                       'RemainingMonthsForLegalMaturity','ModificationFlag','ZeroBalanceCode',\n",
        "                       'ZeroBalanceEffectiveDate','CurrentInterestRate','CurrentDeferredUPB',\n",
        "                       'MIRecoveries','NetSalesProceeds','NonMIRecoveries',\n",
        "                       'Expenses','LegalCosts','MaintenanceAndPreservationCosts',\n",
        "                       'TaxesAndInsurance', 'ActualLossCalculation','ModificationCost'],axis=1, inplace=True)\n",
        "svcgdataZBC.head(5)"
      ],
      "execution_count": 0,
      "outputs": []
    },
    {
      "metadata": {
        "id": "_G0q8M0Lh9iM",
        "colab_type": "text"
      },
      "cell_type": "markdown",
      "source": [
        "Below merging the Defaults:"
      ]
    },
    {
      "metadata": {
        "id": "sjgZVHX8gwsf",
        "colab_type": "code",
        "colab": {}
      },
      "cell_type": "code",
      "source": [
        "svcgdatamerge = pd.merge(svcgdataZBC, svcgdataCLDS, on='LoanSequenceNumber')"
      ],
      "execution_count": 0,
      "outputs": []
    },
    {
      "metadata": {
        "id": "xqSkfjzCiOxB",
        "colab_type": "code",
        "colab": {}
      },
      "cell_type": "code",
      "source": [
        "svcgdatamerge['DefaultZBC'].value_counts()"
      ],
      "execution_count": 0,
      "outputs": []
    },
    {
      "metadata": {
        "id": "YIGz9Uzo6qv0",
        "colab_type": "code",
        "colab": {}
      },
      "cell_type": "code",
      "source": [
        "svcgdatamerge['DefaultCLDS'].value_counts()"
      ],
      "execution_count": 0,
      "outputs": []
    },
    {
      "metadata": {
        "id": "jQoVKsA5meC6",
        "colab_type": "code",
        "colab": {}
      },
      "cell_type": "code",
      "source": [
        "svcgdatamerge['DefaultTF'] = (svcgdatamerge.DefaultZBC.apply(int) + svcgdatamerge.DefaultCLDS.apply(int)) > 0 "
      ],
      "execution_count": 0,
      "outputs": []
    },
    {
      "metadata": {
        "id": "t6oqymk57q6b",
        "colab_type": "code",
        "colab": {}
      },
      "cell_type": "code",
      "source": [
        "svcgdatamerge['DefaultTF'].value_counts()"
      ],
      "execution_count": 0,
      "outputs": []
    },
    {
      "metadata": {
        "id": "El12AGSyy1C7",
        "colab_type": "code",
        "colab": {}
      },
      "cell_type": "code",
      "source": [
        "svcgdatamerge['Default'] = np.where(svcgdatamerge['DefaultTF'] == True, '1', '0')"
      ],
      "execution_count": 0,
      "outputs": []
    },
    {
      "metadata": {
        "id": "340VJgWoyVJ4",
        "colab_type": "code",
        "colab": {}
      },
      "cell_type": "code",
      "source": [
        "svcgdatamerge.drop(['DefaultZBC','DefaultCLDS', 'DefaultTF'],axis=1, inplace=True)"
      ],
      "execution_count": 0,
      "outputs": []
    },
    {
      "metadata": {
        "id": "kBeTYfHggVCB",
        "colab_type": "code",
        "colab": {}
      },
      "cell_type": "code",
      "source": [
        "svcgdatamerge.head(5)"
      ],
      "execution_count": 0,
      "outputs": []
    },
    {
      "metadata": {
        "id": "UrvWBeLhpmCf",
        "colab_type": "text"
      },
      "cell_type": "markdown",
      "source": [
        "Below creating mergedata.csv:"
      ]
    },
    {
      "metadata": {
        "id": "kiMWo3Zo-dup",
        "colab_type": "code",
        "colab": {}
      },
      "cell_type": "code",
      "source": [
        "mergedata2014_15 = pd.merge(origdata, svcgdatamerge, on='LoanSequenceNumber')"
      ],
      "execution_count": 0,
      "outputs": []
    },
    {
      "metadata": {
        "id": "vE-TD_dB_c2l",
        "colab_type": "code",
        "colab": {}
      },
      "cell_type": "code",
      "source": [
        "print(\"origdata\", origdata.shape)\n",
        "print(\"svcgdata\", svcgdata.shape)\n",
        "print(\"mergedata2014_15\", mergedata2014_15.shape)"
      ],
      "execution_count": 0,
      "outputs": []
    },
    {
      "metadata": {
        "id": "c5kIgkFCNzbv",
        "colab_type": "code",
        "colab": {}
      },
      "cell_type": "code",
      "source": [
        "mergedata2014_15.head(5)"
      ],
      "execution_count": 0,
      "outputs": []
    },
    {
      "metadata": {
        "id": "xaT3d6k133Hk",
        "colab_type": "code",
        "colab": {}
      },
      "cell_type": "code",
      "source": [
        "mergedata2014_15['Default'].value_counts()"
      ],
      "execution_count": 0,
      "outputs": []
    },
    {
      "metadata": {
        "id": "pQoHUIx74Keq",
        "colab_type": "code",
        "colab": {}
      },
      "cell_type": "code",
      "source": [
        "mergedata2014_15['LoanSequenceNumber'].value_counts()"
      ],
      "execution_count": 0,
      "outputs": []
    },
    {
      "metadata": {
        "id": "tcVeO_ol-5Li",
        "colab_type": "code",
        "colab": {}
      },
      "cell_type": "code",
      "source": [
        "mergedata2014_15.to_csv('mergedata2014_15.csv', index=False, header=True,)"
      ],
      "execution_count": 0,
      "outputs": []
    }
  ]
}